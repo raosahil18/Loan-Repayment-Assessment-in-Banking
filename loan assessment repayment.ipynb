{
 "cells": [
  {
   "cell_type": "markdown",
   "id": "709d5869",
   "metadata": {},
   "source": [
    "## 1) Importing Libraries"
   ]
  },
  {
   "cell_type": "code",
   "execution_count": null,
   "id": "4fa02c1a",
   "metadata": {},
   "outputs": [],
   "source": [
    "import numpy as np\n",
    "import pandas as pd\n",
    "from matplotlib import pyplot as plt\n",
    "import seaborn as sns \n",
    "%matplotlib inline"
   ]
  },
  {
   "cell_type": "code",
   "execution_count": null,
   "id": "c0ab711f",
   "metadata": {},
   "outputs": [],
   "source": [
    "# changing the directory\n",
    "import os\n",
    "os.chdir(\"C:/Users/HP/OneDrive/Desktop/Machine Learning/hackthon project\")"
   ]
  },
  {
   "cell_type": "code",
   "execution_count": null,
   "id": "15b2b027",
   "metadata": {},
   "outputs": [],
   "source": [
    "# importing the dataset\n",
    "df = pd.read_csv(\"train_loan_data (1).csv\")"
   ]
  },
  {
   "cell_type": "code",
   "execution_count": null,
   "id": "91078e6f",
   "metadata": {},
   "outputs": [],
   "source": [
    "df.head()"
   ]
  },
  {
   "cell_type": "markdown",
   "id": "da0bd285",
   "metadata": {},
   "source": [
    "## Data Preparation\n",
    "#### 1.1) Understanding the data\n",
    "#### 1.2) Descriptive Statistics\n",
    "#### 1.3) Explorartory Data Analysis\n",
    "#### 1.4) Outlier Treatment \n",
    "#### 1.5) Missing value Treatment\n",
    "#### 1.6) Encoding\n",
    "#### 1.7) Splitting the data into Train and Test"
   ]
  },
  {
   "cell_type": "code",
   "execution_count": null,
   "id": "8ada873c",
   "metadata": {},
   "outputs": [],
   "source": [
    "df.info()"
   ]
  },
  {
   "cell_type": "code",
   "execution_count": null,
   "id": "243daf40",
   "metadata": {
    "scrolled": true
   },
   "outputs": [],
   "source": [
    "df.describe()"
   ]
  },
  {
   "cell_type": "code",
   "execution_count": null,
   "id": "b5d82715",
   "metadata": {},
   "outputs": [],
   "source": [
    "df.describe(include= \"O\")"
   ]
  },
  {
   "cell_type": "code",
   "execution_count": null,
   "id": "b886a144",
   "metadata": {},
   "outputs": [],
   "source": [
    "len(df)"
   ]
  },
  {
   "cell_type": "code",
   "execution_count": null,
   "id": "0de4b202",
   "metadata": {},
   "outputs": [],
   "source": [
    "df.shape"
   ]
  },
  {
   "cell_type": "code",
   "execution_count": null,
   "id": "6f2364b6",
   "metadata": {},
   "outputs": [],
   "source": [
    "df.columns"
   ]
  },
  {
   "cell_type": "code",
   "execution_count": null,
   "id": "8307359b",
   "metadata": {},
   "outputs": [],
   "source": [
    "len(df.columns)"
   ]
  },
  {
   "cell_type": "code",
   "execution_count": null,
   "id": "3b457274",
   "metadata": {},
   "outputs": [],
   "source": [
    "## EDA"
   ]
  },
  {
   "cell_type": "code",
   "execution_count": null,
   "id": "92c4673b",
   "metadata": {},
   "outputs": [],
   "source": [
    "plt.figure(figsize=(15,5))\n",
    "sns.barplot(df, x='annual_inc',y='loan_status')\n",
    "plt.show()"
   ]
  },
  {
   "cell_type": "code",
   "execution_count": null,
   "id": "bb432573",
   "metadata": {},
   "outputs": [],
   "source": [
    "plt.figure(figsize=(15,5))\n",
    "sns.barplot(df, x='fico_range_high',y='loan_status')\n",
    "plt.show()"
   ]
  },
  {
   "cell_type": "code",
   "execution_count": null,
   "id": "5d8882d8",
   "metadata": {},
   "outputs": [],
   "source": [
    "plt.figure(figsize=(15,5))\n",
    "sns.barplot(df, x='fico_range_low',y='loan_status')\n",
    "plt.show()"
   ]
  },
  {
   "cell_type": "code",
   "execution_count": null,
   "id": "edcc8843",
   "metadata": {},
   "outputs": [],
   "source": [
    "plt.figure(figsize=(15,5))\n",
    "sns.barplot(df, x='int_rate',y='loan_status')\n",
    "plt.show()"
   ]
  },
  {
   "cell_type": "code",
   "execution_count": null,
   "id": "28c6c554",
   "metadata": {},
   "outputs": [],
   "source": [
    "plt.figure(figsize=(15,5))\n",
    "sns.barplot(df, x='loan_amnt',y='loan_status')\n",
    "plt.show()"
   ]
  },
  {
   "cell_type": "code",
   "execution_count": null,
   "id": "a231c4be",
   "metadata": {},
   "outputs": [],
   "source": [
    "plt.figure(figsize=(15,5))\n",
    "sns.barplot(df, x='num_actv_bc_tl',y='loan_status')\n",
    "plt.show()"
   ]
  },
  {
   "cell_type": "code",
   "execution_count": null,
   "id": "05f08f32",
   "metadata": {},
   "outputs": [],
   "source": [
    "plt.figure(figsize=(15,5))\n",
    "sns.barplot(df, x='mort_acc',y='loan_status')\n",
    "plt.show()"
   ]
  },
  {
   "cell_type": "code",
   "execution_count": null,
   "id": "e13e10e6",
   "metadata": {},
   "outputs": [],
   "source": [
    "plt.figure(figsize=(15,5))\n",
    "sns.barplot(df, x='tot_cur_bal',y='loan_status')\n",
    "plt.show()"
   ]
  },
  {
   "cell_type": "code",
   "execution_count": null,
   "id": "0aae7d91",
   "metadata": {},
   "outputs": [],
   "source": [
    "plt.figure(figsize=(15,5))\n",
    "sns.barplot(df, x='open_acc',y='loan_status')\n",
    "plt.show()"
   ]
  },
  {
   "cell_type": "code",
   "execution_count": null,
   "id": "f5f8d363",
   "metadata": {},
   "outputs": [],
   "source": [
    "plt.figure(figsize=(15,5))\n",
    "sns.barplot(df, x='pub_rec',y='loan_status')\n",
    "plt.show()"
   ]
  },
  {
   "cell_type": "code",
   "execution_count": null,
   "id": "4c9507c0",
   "metadata": {},
   "outputs": [],
   "source": [
    "plt.figure(figsize=(15,5))\n",
    "sns.barplot(df, x='pub_rec_bankruptcies',y='loan_status')\n",
    "plt.show()"
   ]
  },
  {
   "cell_type": "code",
   "execution_count": null,
   "id": "34a27351",
   "metadata": {},
   "outputs": [],
   "source": [
    "plt.figure(figsize=(15,5))\n",
    "sns.barplot(df, x='revol_bal',y='loan_status')\n",
    "plt.show()"
   ]
  },
  {
   "cell_type": "code",
   "execution_count": null,
   "id": "ce585153",
   "metadata": {},
   "outputs": [],
   "source": [
    "plt.figure(figsize=(15,5))\n",
    "sns.barplot(df, x='revol_util',y='loan_status')\n",
    "plt.show()"
   ]
  },
  {
   "cell_type": "code",
   "execution_count": null,
   "id": "63afb57c",
   "metadata": {},
   "outputs": [],
   "source": [
    "plt.figure(figsize=(15,5))\n",
    "sns.barplot(df, x='total_acc',y='loan_status')\n",
    "plt.show()"
   ]
  },
  {
   "cell_type": "code",
   "execution_count": null,
   "id": "ce65ebf1",
   "metadata": {},
   "outputs": [],
   "source": [
    "# outliers treatment\n",
    "def outliers_treatment(data):\n",
    "    Q1 = data.quantile(0.25)\n",
    "    Q3 = data.quantile(0.75)\n",
    "    IQR = Q3 - Q1\n",
    "    df_rem_out = data[~((data<(Q1-1.5*IQR))| (data>(Q3+1.5*IQR))).any(axis=1)]\n",
    "    return df_rem_out\n",
    "\n",
    "df = outliers_treatment(df)"
   ]
  },
  {
   "cell_type": "code",
   "execution_count": null,
   "id": "a898f5d2",
   "metadata": {},
   "outputs": [],
   "source": [
    "len(df)"
   ]
  },
  {
   "cell_type": "code",
   "execution_count": null,
   "id": "709d3146",
   "metadata": {},
   "outputs": [],
   "source": [
    "# missing values\n",
    "df.isnull().sum()/len(df)*100"
   ]
  },
  {
   "cell_type": "code",
   "execution_count": null,
   "id": "bba6b666",
   "metadata": {},
   "outputs": [],
   "source": [
    "## missing value treatment\n",
    "def missing_value_treatment(df, numerical, categorical):\n",
    "    for i in numerical:\n",
    "        df[i] = df[i].fillna(df[i].mean())\n",
    "    for i in categorical:\n",
    "        df[i] = df[i].fillna(df[i].mode())\n",
    "    return df\n",
    "\n",
    "df = missing_value_treatment(df,numerical,categorical)"
   ]
  },
  {
   "cell_type": "code",
   "execution_count": null,
   "id": "7af02ec0",
   "metadata": {},
   "outputs": [],
   "source": [
    "df.isnull().sum()/len(df)*100"
   ]
  },
  {
   "cell_type": "code",
   "execution_count": null,
   "id": "bd94e6e1",
   "metadata": {},
   "outputs": [],
   "source": [
    "## checking correlation\n",
    "df.corr()"
   ]
  },
  {
   "cell_type": "code",
   "execution_count": null,
   "id": "ff133096",
   "metadata": {},
   "outputs": [],
   "source": [
    "# Separating the numerical and categorical columns\n",
    "def data_type(df):\n",
    "    numerical = []\n",
    "    categorical = []\n",
    "    for i in df.columns:\n",
    "        if df[i].dtype == 'int64' or df[i].dtype == 'float64':\n",
    "            numerical.append(i)\n",
    "        else:\n",
    "            categorical.append(i)\n",
    "    return numerical, categorical\n",
    "\n",
    "\n",
    "numerical, categorical = data_type(df)\n",
    "\n",
    "# Identifying the binary columns and ignoring them from scaling\n",
    "def binary_columns(df):\n",
    "    binary_cols = []\n",
    "    for col in df.select_dtypes(include=['int', 'float']).columns:\n",
    "        unique_values = df[col].unique()\n",
    "        if np.in1d(unique_values, [0, 1]).all():\n",
    "            binary_cols.append(col)\n",
    "    return binary_cols\n",
    "\n",
    "binary_cols = binary_columns(df)\n",
    "\n",
    "# Remove the binary columns from the numerical columns\n",
    "numerical = [i for i in numerical if i not in binary_cols]\n",
    "\n",
    "def encoding(df, categorical):\n",
    "    for i in categorical:\n",
    "        df[i] = df[i].astype('category')\n",
    "        df[i] = df[i].cat.codes\n",
    "    return df\n",
    "\n",
    "df = encoding(df, categorical)"
   ]
  },
  {
   "cell_type": "code",
   "execution_count": null,
   "id": "e90c8e15",
   "metadata": {},
   "outputs": [],
   "source": [
    "## feature scaling \n",
    "from sklearn.preprocessing import StandardScaler\n",
    "\n",
    "def feature_scaling(df, numerical):\n",
    "    sc_x = StandardScaler()\n",
    "    df[numerical] = sc_x.fit_transform(df[numerical])\n",
    "    return df\n",
    "\n",
    "df = feature_scaling(df, numerical)"
   ]
  },
  {
   "cell_type": "code",
   "execution_count": null,
   "id": "e091fb06",
   "metadata": {},
   "outputs": [],
   "source": [
    "df"
   ]
  },
  {
   "cell_type": "code",
   "execution_count": null,
   "id": "67e7e7d3",
   "metadata": {},
   "outputs": [],
   "source": [
    "## splitting data \n",
    "x = df.iloc[:,[0,1,2,3,4,5,6,7,8,9,10,11,12,13,14,15,16,17,18,19,20,21,22,23,24,25,26]].values\n",
    "y = df.iloc[:,-1].values"
   ]
  },
  {
   "cell_type": "code",
   "execution_count": null,
   "id": "db33b018",
   "metadata": {},
   "outputs": [],
   "source": [
    "from sklearn.model_selection import train_test_split\n",
    "x_train,x_test,y_train,y_test = train_test_split(x,y,test_size=0.2)"
   ]
  },
  {
   "cell_type": "code",
   "execution_count": null,
   "id": "dc6b3e10",
   "metadata": {},
   "outputs": [],
   "source": [
    "from sklearn.linear_model import LogisticRegression\n",
    "logistic = LogisticRegression()\n",
    "logistic.fit(x_train, y_train)"
   ]
  },
  {
   "cell_type": "code",
   "execution_count": null,
   "id": "f1af1b4a",
   "metadata": {},
   "outputs": [],
   "source": [
    "## prediction\n",
    "prediction= logistic.predict(x_test)"
   ]
  },
  {
   "cell_type": "code",
   "execution_count": null,
   "id": "152dfd13",
   "metadata": {},
   "outputs": [],
   "source": [
    "prediction"
   ]
  },
  {
   "cell_type": "code",
   "execution_count": null,
   "id": "bf4abc09",
   "metadata": {},
   "outputs": [],
   "source": [
    "from sklearn.metrics import accuracy_score, confusion_matrix\n",
    "\n",
    "# confusion matrix\n",
    "confusion_matrix = confusion_matrix(y_test, prediction)\n",
    "confusion_matrix"
   ]
  },
  {
   "cell_type": "code",
   "execution_count": null,
   "id": "5d90c89c",
   "metadata": {},
   "outputs": [],
   "source": [
    "## calculating accuracy\n",
    "accuracy_score = accuracy_score(y_test,prediction)\n",
    "accuracy_score"
   ]
  },
  {
   "cell_type": "markdown",
   "id": "c3bb1687",
   "metadata": {},
   "source": [
    "#### Conclusion :- Accuracy of model is 80.04%"
   ]
  },
  {
   "cell_type": "code",
   "execution_count": null,
   "id": "ef4c971c",
   "metadata": {},
   "outputs": [],
   "source": [
    "%pip install xgboost"
   ]
  },
  {
   "cell_type": "code",
   "execution_count": null,
   "id": "6536d0be",
   "metadata": {},
   "outputs": [],
   "source": [
    "accuracyList=[]\n",
    "modelList=[]"
   ]
  },
  {
   "cell_type": "code",
   "execution_count": null,
   "id": "ca58b721",
   "metadata": {},
   "outputs": [],
   "source": [
    "#xgboost algorithum\n",
    "import xgboost as xgb"
   ]
  },
  {
   "cell_type": "code",
   "execution_count": null,
   "id": "1a767fe1",
   "metadata": {},
   "outputs": [],
   "source": [
    "# create an XG Boost classifier\n",
    "xg_class = xgb.XGBClassifier( n_estimators = 10)"
   ]
  },
  {
   "cell_type": "code",
   "execution_count": null,
   "id": "d7db2de0",
   "metadata": {},
   "outputs": [],
   "source": [
    "# Fit and predict from the model\n",
    "xg_class.fit(_train,y_train)\n",
    "\n",
    "preds = xg_class.predict(x_test)"
   ]
  },
  {
   "cell_type": "code",
   "execution_count": null,
   "id": "81c61240",
   "metadata": {},
   "outputs": [],
   "source": [
    "from sklearn import metrics\n",
    "# print the accuracy\n",
    "print(\"Accuracy:\",metrics.accuracy_score(y_test, preds))\n",
    "accuracyList.append(metrics.accuracy_score(y_test, preds))\n",
    "modelList.append(\"XGBoost\")"
   ]
  },
  {
   "cell_type": "markdown",
   "id": "8b01a1a5",
   "metadata": {},
   "source": [
    "#### conclusion:- Accuracy of model is 80.16%"
   ]
  },
  {
   "cell_type": "code",
   "execution_count": null,
   "id": "5a9e969a",
   "metadata": {},
   "outputs": [],
   "source": [
    "## svm classification algorithum\n",
    "from sklearn.svm import SVC \n",
    "model = SVC(kernel = \"rbf\")\n",
    "model.fit(x_train, y_train)"
   ]
  },
  {
   "cell_type": "code",
   "execution_count": null,
   "id": "2e7c5fbd",
   "metadata": {},
   "outputs": [],
   "source": [
    "## prediction \n",
    "predict = model.predict(x_test)\n",
    "predict"
   ]
  },
  {
   "cell_type": "code",
   "execution_count": null,
   "id": "e659f29e",
   "metadata": {},
   "outputs": [],
   "source": [
    "#Using accuracy score \n",
    "accuracy_score(y_test,predict)"
   ]
  },
  {
   "cell_type": "markdown",
   "id": "41536e38",
   "metadata": {},
   "source": [
    "#### Conclusion :- Accuracy of model is 76.24%"
   ]
  },
  {
   "cell_type": "code",
   "execution_count": null,
   "id": "d2e6d5ee",
   "metadata": {},
   "outputs": [],
   "source": []
  }
 ],
 "metadata": {
  "kernelspec": {
   "display_name": "Python 3 (ipykernel)",
   "language": "python",
   "name": "python3"
  },
  "language_info": {
   "codemirror_mode": {
    "name": "ipython",
    "version": 3
   },
   "file_extension": ".py",
   "mimetype": "text/x-python",
   "name": "python",
   "nbconvert_exporter": "python",
   "pygments_lexer": "ipython3",
   "version": "3.11.4"
  }
 },
 "nbformat": 4,
 "nbformat_minor": 5
}
